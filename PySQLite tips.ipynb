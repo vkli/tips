{
 "cells": [
  {
   "cell_type": "code",
   "execution_count": 1,
   "metadata": {
    "collapsed": true
   },
   "outputs": [],
   "source": [
    "import sqlite3\n",
    "from sqlite3 import Error"
   ]
  },
  {
   "cell_type": "markdown",
   "metadata": {},
   "source": [
    "# Create db_file.db, close"
   ]
  },
  {
   "cell_type": "code",
   "execution_count": 56,
   "metadata": {
    "collapsed": false
   },
   "outputs": [],
   "source": [
    "def create_connection(db_file):\n",
    "    try:\n",
    "        conn=sqlite3.connect(db_file)\n",
    "        print(sqlite3.version)\n",
    "    except Error as e:\n",
    "        print(e) #show any sqlite error messages\n",
    "    finally:\n",
    "        conn.close()"
   ]
  },
  {
   "cell_type": "code",
   "execution_count": 57,
   "metadata": {
    "collapsed": false
   },
   "outputs": [
    {
     "name": "stdout",
     "output_type": "stream",
     "text": [
      "2.6.0\n"
     ]
    }
   ],
   "source": [
    "\"\"\"create pythonsqlite.db, close\"\"\"\n",
    "create_connection(\"pythonsqlite.db\")"
   ]
  },
  {
   "cell_type": "markdown",
   "metadata": {},
   "source": [
    "# Create .db in memory, close"
   ]
  },
  {
   "cell_type": "code",
   "execution_count": 24,
   "metadata": {
    "collapsed": true
   },
   "outputs": [],
   "source": [
    "def create_connection_mem():\n",
    "    \"\"\"create/open .db in memory, close\"\"\"\n",
    "    try:\n",
    "        conn=sqlite3.connect(':memory:')\n",
    "        print(sqlite3.version)\n",
    "    except Error as e:\n",
    "        print(e) #show any sqlite error messages\n",
    "    finally:\n",
    "        conn.close()"
   ]
  },
  {
   "cell_type": "code",
   "execution_count": 25,
   "metadata": {
    "collapsed": false
   },
   "outputs": [
    {
     "name": "stdout",
     "output_type": "stream",
     "text": [
      "2.6.0\n"
     ]
    }
   ],
   "source": [
    "\"\"\"create .db in memory, close\"\"\"\n",
    "create_connection_mem()"
   ]
  },
  {
   "cell_type": "markdown",
   "metadata": {},
   "source": [
    "# Create db_file.db"
   ]
  },
  {
   "cell_type": "code",
   "execution_count": 14,
   "metadata": {
    "collapsed": false
   },
   "outputs": [],
   "source": [
    "def open_connection(db_file):\n",
    "    \"\"\"create/open db_file.db\"\"\"\n",
    "    try:\n",
    "        conn=sqlite3.connect(db_file)\n",
    "        return conn\n",
    "    except Error as e:\n",
    "        print(e) #show any sqlite error messages\n",
    "    return None"
   ]
  },
  {
   "cell_type": "code",
   "execution_count": 93,
   "metadata": {
    "collapsed": false
   },
   "outputs": [],
   "source": [
    "\"\"\"open/create pythonsqlite.db\"\"\"\n",
    "conn=open_connection(\"/Users/lickivy/Desktop/SQLite/sqlitetutorial/pythonsqlite.db\")"
   ]
  },
  {
   "cell_type": "code",
   "execution_count": 94,
   "metadata": {
    "collapsed": false
   },
   "outputs": [
    {
     "data": {
      "text/plain": [
       "<sqlite3.Connection at 0x104493b90>"
      ]
     },
     "execution_count": 94,
     "metadata": {},
     "output_type": "execute_result"
    }
   ],
   "source": [
    "conn"
   ]
  },
  {
   "cell_type": "code",
   "execution_count": 95,
   "metadata": {
    "collapsed": false
   },
   "outputs": [
    {
     "data": {
      "text/plain": [
       "<sqlite3.Connection at 0x104493c70>"
      ]
     },
     "execution_count": 95,
     "metadata": {},
     "output_type": "execute_result"
    }
   ],
   "source": [
    "\"\"\"can't do it without conn= \"\"\"\n",
    "open_connection(\"/Users/lickivy/Desktop/SQLite/sqlitetutorial/pythonsqlite.db\")\n",
    "#current connection is:"
   ]
  },
  {
   "cell_type": "code",
   "execution_count": 96,
   "metadata": {
    "collapsed": false
   },
   "outputs": [
    {
     "data": {
      "text/plain": [
       "<sqlite3.Connection at 0x104493b90>"
      ]
     },
     "execution_count": 96,
     "metadata": {},
     "output_type": "execute_result"
    }
   ],
   "source": [
    "conn\n",
    "#definition conn is:"
   ]
  },
  {
   "cell_type": "code",
   "execution_count": 97,
   "metadata": {
    "collapsed": true
   },
   "outputs": [],
   "source": [
    "\"\"\"open/create pythonsqlite.db\"\"\"\n",
    "conn=open_connection(\"/Users/lickivy/Desktop/SQLite/sqlitetutorial/pythonsqlite.db\")"
   ]
  },
  {
   "cell_type": "code",
   "execution_count": 98,
   "metadata": {
    "collapsed": false
   },
   "outputs": [
    {
     "data": {
      "text/plain": [
       "<sqlite3.Connection at 0x1044939d0>"
      ]
     },
     "execution_count": 98,
     "metadata": {},
     "output_type": "execute_result"
    }
   ],
   "source": [
    "conn\n",
    "#current connection = definition conn is:"
   ]
  },
  {
   "cell_type": "markdown",
   "metadata": {},
   "source": [
    "# Create table"
   ]
  },
  {
   "cell_type": "code",
   "execution_count": 66,
   "metadata": {
    "collapsed": true
   },
   "outputs": [],
   "source": [
    "def create_table(conn, create_table_sql):\n",
    "    \"\"\"create table in conn\"\"\"\n",
    "    try:\n",
    "        c=conn.cursor()\n",
    "        c.execute(create_table_sql)\n",
    "    except Error as e:\n",
    "        print(e) #show any sqlite error messages"
   ]
  },
  {
   "cell_type": "code",
   "execution_count": 70,
   "metadata": {
    "collapsed": false
   },
   "outputs": [
    {
     "ename": "AttributeError",
     "evalue": "'builtin_function_or_method' object has no attribute 'execute'",
     "output_type": "error",
     "traceback": [
      "\u001b[0;31m---------------------------------------------------------------------------\u001b[0m",
      "\u001b[0;31mAttributeError\u001b[0m                            Traceback (most recent call last)",
      "\u001b[0;32m<ipython-input-70-f06339e28be0>\u001b[0m in \u001b[0;36m<module>\u001b[0;34m()\u001b[0m\n\u001b[1;32m      1\u001b[0m \u001b[0;34m\"\"\"can't do it shorter way\"\"\"\u001b[0m\u001b[0;34m\u001b[0m\u001b[0m\n\u001b[0;32m----> 2\u001b[0;31m \u001b[0mconn\u001b[0m\u001b[0;34m.\u001b[0m\u001b[0mcursor\u001b[0m\u001b[0;34m.\u001b[0m\u001b[0mexecute\u001b[0m\u001b[0;34m(\u001b[0m\u001b[0msql_create_projects_table\u001b[0m\u001b[0;34m)\u001b[0m\u001b[0;34m\u001b[0m\u001b[0m\n\u001b[0m",
      "\u001b[0;31mAttributeError\u001b[0m: 'builtin_function_or_method' object has no attribute 'execute'"
     ]
    }
   ],
   "source": [
    "\"\"\"can't do it shorter way\"\"\"\n",
    "conn.cursor.execute(sql_create_projects_table)"
   ]
  },
  {
   "cell_type": "code",
   "execution_count": 99,
   "metadata": {
    "collapsed": false
   },
   "outputs": [],
   "source": [
    "\"\"\"create tables projects, tasks in pythonsqlite.db\"\"\"\n",
    "\n",
    "sql_create_projects_table=\"\"\"create table if not exists\n",
    "    projects(\n",
    "    id integer primary key,\n",
    "    name text not null,\n",
    "    begin_date text,\n",
    "    end_date text);\"\"\"\n",
    "sql_create_tasks_table=\"\"\"create table if not exists\n",
    "     tasks(\n",
    "     id integer primary key,\n",
    "     name text not null,\n",
    "     priority integer,\n",
    "     status_id integer not null,\n",
    "     project_id integer not null,\n",
    "     begin_date text not null,\n",
    "     end_date text not null,\n",
    "     foreign key(project_id) references projects(id));\"\"\"\n",
    "\n",
    "if conn is not None:\n",
    "    #create projects table\n",
    "    create_table(conn,sql_create_projects_table)\n",
    "    #create tasks table\n",
    "    create_table(conn,sql_create_tasks_table)\n",
    "else:\n",
    "    print(\"Error: cannot create the database connection\")"
   ]
  },
  {
   "cell_type": "markdown",
   "metadata": {},
   "source": [
    "# Insert row, return rowid"
   ]
  },
  {
   "cell_type": "code",
   "execution_count": 100,
   "metadata": {
    "collapsed": true
   },
   "outputs": [],
   "source": [
    "def create_project(conn,row):\n",
    "    \"\"\"Insert row into projects table, return rowid\"\"\"\n",
    "    sql=\"\"\"insert into projects(name,begin_date,end_date)\n",
    "    values(?,?,?)\"\"\"\n",
    "    c=conn.cursor()\n",
    "    c.execute(sql,row)\n",
    "    return c.lastrowid\n",
    "\n",
    "def create_task(conn,row):\n",
    "    \"\"\"Insert row into tasks table, return rowid\"\"\"\n",
    "    sql=\"\"\"insert into tasks(name,priority,status_id,\n",
    "    project_id,begin_date,end_date) \n",
    "    values(?,?,?,?,?,?)\"\"\"\n",
    "    c=conn.cursor()\n",
    "    c.execute(sql,row)\n",
    "    return c.lastrowid"
   ]
  },
  {
   "cell_type": "code",
   "execution_count": 104,
   "metadata": {
    "collapsed": true
   },
   "outputs": [],
   "source": [
    "\"\"\"insert row1 into projects; row2, row3 into tasks\"\"\"\n",
    "with conn:\n",
    "\n",
    "    row1=('Cool App with SQLite & Python','2015-01-01','2015-01-30');\n",
    "    #insert row1\n",
    "    project_rowid=create_project(conn,row1)\n",
    "    \n",
    "    row2=('Analyze the requirements of the app',1,1,project_rowid,\n",
    "         '2015-01-01','2015-01-02')\n",
    "    row3=('Confirm with user about the top requirements',1,1,\n",
    "         project_rowid,'2015-01-03','2015-01-05')\n",
    "    #insert row2, row3\n",
    "    create_task(conn,row2)\n",
    "    create_task(conn,row3)"
   ]
  },
  {
   "cell_type": "markdown",
   "metadata": {},
   "source": [
    "# Delete row by rowid"
   ]
  },
  {
   "cell_type": "code",
   "execution_count": 108,
   "metadata": {
    "collapsed": true
   },
   "outputs": [],
   "source": [
    "def delete_task(conn,id):\n",
    "    \"\"\"delete row from tasks by rowid\"\"\"\n",
    "    sql=\"delete from tasks where rowid=?\"\n",
    "    c=conn.cursor()\n",
    "    c.execute(sql,(id,)) #must use (id,) else unsupported type"
   ]
  },
  {
   "cell_type": "code",
   "execution_count": 109,
   "metadata": {
    "collapsed": false
   },
   "outputs": [],
   "source": [
    "\"\"\"delete row 2 from tasks\"\"\"\n",
    "with conn:\n",
    "    delete_task(conn,2);"
   ]
  },
  {
   "cell_type": "markdown",
   "metadata": {},
   "source": [
    "# Delete all rows"
   ]
  },
  {
   "cell_type": "code",
   "execution_count": 110,
   "metadata": {
    "collapsed": true
   },
   "outputs": [],
   "source": [
    "def delete_all_tasks(conn):\n",
    "    \"\"\"delete all rows from tasks table\"\"\"\n",
    "    sql='delete from tasks'\n",
    "    c=conn.cursor()\n",
    "    c.execute(sql)"
   ]
  },
  {
   "cell_type": "code",
   "execution_count": 111,
   "metadata": {
    "collapsed": true
   },
   "outputs": [],
   "source": [
    "\"\"\"delete all rows from tasks\"\"\"\n",
    "with conn:\n",
    "    delete_all_tasks(conn);"
   ]
  },
  {
   "cell_type": "markdown",
   "metadata": {},
   "source": [
    "# Update data by rowid"
   ]
  },
  {
   "cell_type": "code",
   "execution_count": 113,
   "metadata": {
    "collapsed": true
   },
   "outputs": [],
   "source": [
    "def update_task(conn,update):\n",
    "    \"\"\"update priority, begin_date, and end date in tasks table\"\"\"\n",
    "    sql='''update tasks\n",
    "    set priority=?,\n",
    "    begin_date=?,\n",
    "    end_date=?\n",
    "    where rowid=?'''\n",
    "    c=conn.cursor()\n",
    "    c.execute(sql,update)"
   ]
  },
  {
   "cell_type": "code",
   "execution_count": 114,
   "metadata": {
    "collapsed": true
   },
   "outputs": [],
   "source": [
    "\"\"\"update priority, begin_date, and end date of tasks table row 2\"\"\"\n",
    "\n",
    "#recreate tasks table\n",
    "create_task(conn,row2)\n",
    "create_task(conn,row3)\n",
    "\n",
    "#update\n",
    "with conn:\n",
    "    update_task(conn,(2,'2015-01-04','2015-01-06',2))"
   ]
  },
  {
   "cell_type": "markdown",
   "metadata": {},
   "source": [
    "# Select "
   ]
  },
  {
   "cell_type": "code",
   "execution_count": 117,
   "metadata": {
    "collapsed": true
   },
   "outputs": [],
   "source": [
    "def select_all_tasks(conn):\n",
    "    \"\"\"select * from tasks\"\"\"\n",
    "    c=conn.cursor()\n",
    "    c.execute(\"select * from tasks\")\n",
    "    output=c.fetchall()\n",
    "    for row in output:\n",
    "        print(row)"
   ]
  },
  {
   "cell_type": "code",
   "execution_count": 118,
   "metadata": {
    "collapsed": false
   },
   "outputs": [
    {
     "name": "stdout",
     "output_type": "stream",
     "text": [
      "(1, 'Analyze the requirements of the app', 1, 1, 1, '2015-01-01', '2015-01-02')\n",
      "(2, 'Confirm with user about the top requirements', 2, 1, 1, '2015-01-04', '2015-01-06')\n"
     ]
    }
   ],
   "source": [
    "\"\"\"select * from tasks\"\"\"\n",
    "with conn:\n",
    "    select_all_tasks(conn)"
   ]
  },
  {
   "cell_type": "markdown",
   "metadata": {},
   "source": [
    "# Select where"
   ]
  },
  {
   "cell_type": "code",
   "execution_count": 126,
   "metadata": {
    "collapsed": false
   },
   "outputs": [],
   "source": [
    "def select_task_by_priority(conn,priority):\n",
    "    \"\"\"select from tasks by priority\"\"\"\n",
    "    c=conn.cursor()\n",
    "    c.execute(\"select priority,begin_date from tasks where priority=?\",(priority,))\n",
    "    output=c.fetchall()\n",
    "    print(output)"
   ]
  },
  {
   "cell_type": "code",
   "execution_count": 127,
   "metadata": {
    "collapsed": false
   },
   "outputs": [
    {
     "name": "stdout",
     "output_type": "stream",
     "text": [
      "[(1, '2015-01-01')]\n"
     ]
    }
   ],
   "source": [
    "\"\"\"select from tasks where priority=1\"\"\"\n",
    "select_task_by_priority(conn,1)"
   ]
  },
  {
   "cell_type": "markdown",
   "metadata": {},
   "source": [
    "# Can combine c=conn.cursor(), c.execute(sql,inputs), print(c.fetchall()) to do anything"
   ]
  },
  {
   "cell_type": "code",
   "execution_count": 134,
   "metadata": {
    "collapsed": false
   },
   "outputs": [
    {
     "name": "stdout",
     "output_type": "stream",
     "text": [
      "(1, 'Analyze the requirements of the app', 1, 1, 1, '2015-01-01', '2015-01-02', 1, 'Cool App with SQLite & Python', '2015-01-01', '2015-01-30')\n",
      "(2, 'Confirm with user about the top requirements', 2, 1, 1, '2015-01-04', '2015-01-06', 1, 'Cool App with SQLite & Python', '2015-01-01', '2015-01-30')\n"
     ]
    }
   ],
   "source": [
    "sql=\"select * from tasks inner join projects on tasks.project_id=projects.rowid\"\n",
    "c=conn.cursor()\n",
    "c.execute(sql)\n",
    "output=c.fetchall()\n",
    "for row in output:\n",
    "    print(row)"
   ]
  },
  {
   "cell_type": "code",
   "execution_count": 135,
   "metadata": {
    "collapsed": false
   },
   "outputs": [
    {
     "data": {
      "text/plain": [
       "<sqlite3.Connection at 0x1044939d0>"
      ]
     },
     "execution_count": 135,
     "metadata": {},
     "output_type": "execute_result"
    }
   ],
   "source": [
    "\"\"\"check connection\"\"\"\n",
    "conn"
   ]
  },
  {
   "cell_type": "code",
   "execution_count": 136,
   "metadata": {
    "collapsed": true
   },
   "outputs": [],
   "source": [
    "\"\"\"close connection\"\"\"\n",
    "conn.close()"
   ]
  },
  {
   "cell_type": "code",
   "execution_count": null,
   "metadata": {
    "collapsed": true
   },
   "outputs": [],
   "source": []
  }
 ],
 "metadata": {
  "kernelspec": {
   "display_name": "Python 3",
   "language": "python",
   "name": "python3"
  },
  "language_info": {
   "codemirror_mode": {
    "name": "ipython",
    "version": 3
   },
   "file_extension": ".py",
   "mimetype": "text/x-python",
   "name": "python",
   "nbconvert_exporter": "python",
   "pygments_lexer": "ipython3",
   "version": "3.5.2"
  }
 },
 "nbformat": 4,
 "nbformat_minor": 1
}
